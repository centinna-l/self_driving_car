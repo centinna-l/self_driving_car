{
 "cells": [
  {
   "cell_type": "code",
   "execution_count": 36,
   "metadata": {},
   "outputs": [
    {
     "name": "stdout",
     "output_type": "stream",
     "text": [
      "imports done!\n"
     ]
    }
   ],
   "source": [
    "import numpy as np\n",
    "import matplotlib.pyplot as plt\n",
    "from sklearn import datasets\n",
    "import keras\n",
    "from keras.models import Sequential\n",
    "from keras.layers import Dense\n",
    "from keras.optimizers import Adam\n",
    "print('imports done!')"
   ]
  },
  {
   "cell_type": "code",
   "execution_count": 37,
   "metadata": {},
   "outputs": [],
   "source": [
    "np.random.seed(0)"
   ]
  },
  {
   "cell_type": "code",
   "execution_count": 38,
   "metadata": {},
   "outputs": [],
   "source": [
    "n_pts=500\n",
    "X, y= datasets.make_circles(n_samples=n_pts,random_state=123, noise=0.1, factor=.2)"
   ]
  },
  {
   "cell_type": "code",
   "execution_count": 39,
   "metadata": {},
   "outputs": [
    {
     "data": {
      "text/plain": [
       "<matplotlib.collections.PathCollection at 0x1a1baa2898>"
      ]
     },
     "execution_count": 39,
     "metadata": {},
     "output_type": "execute_result"
    },
    {
     "data": {
      "image/png": "[encoded data removed]",
      "text/plain": [
       "<Figure size 432x288 with 1 Axes>"
      ]
     },
     "metadata": {
      "needs_background": "light"
     },
     "output_type": "display_data"
    }
   ],
   "source": [
    "plt.scatter(X[y==0,0],X[y==0,1])\n",
    "plt.scatter(X[y==1,0],X[y==1,1])"
   ]
  },
  {
   "cell_type": "code",
   "execution_count": 40,
   "metadata": {},
   "outputs": [],
   "source": [
    "model=Sequential()\n",
    "model.add(Dense(4,input_shape=(2,), activation='sigmoid'))\n",
    "model.add(Dense(1,activation='sigmoid'))\n",
    "\n",
    "model.compile(Adam(lr=0.03), 'binary_crossentropy', ['accuracy'])"
   ]
  },
  {
   "cell_type": "markdown",
   "metadata": {},
   "source": []
  },
  {
   "cell_type": "code",
   "execution_count": 41,
   "metadata": {},
   "outputs": [
    {
     "name": "stdout",
     "output_type": "stream",
     "text": [
      "Epoch 1/100\n",
      "500/500 [==============================] - 0s 329us/step - loss: 0.6960 - acc: 0.5520\n",
      "Epoch 2/100\n",
      "500/500 [==============================] - 0s 55us/step - loss: 0.6957 - acc: 0.5620\n",
      "Epoch 3/100\n",
      "500/500 [==============================] - 0s 48us/step - loss: 0.6917 - acc: 0.3500\n",
      "Epoch 4/100\n",
      "500/500 [==============================] - 0s 53us/step - loss: 0.6907 - acc: 0.5800\n",
      "Epoch 5/100\n",
      "500/500 [==============================] - 0s 49us/step - loss: 0.6867 - acc: 0.6680\n",
      "Epoch 6/100\n",
      "500/500 [==============================] - 0s 42us/step - loss: 0.6823 - acc: 0.4580\n",
      "Epoch 7/100\n",
      "500/500 [==============================] - 0s 42us/step - loss: 0.6728 - acc: 0.6760\n",
      "Epoch 8/100\n",
      "500/500 [==============================] - 0s 40us/step - loss: 0.6609 - acc: 0.8560\n",
      "Epoch 9/100\n",
      "500/500 [==============================] - 0s 39us/step - loss: 0.6426 - acc: 0.8620\n",
      "Epoch 10/100\n",
      "500/500 [==============================] - 0s 40us/step - loss: 0.6192 - acc: 0.8880\n",
      "Epoch 11/100\n",
      "500/500 [==============================] - 0s 42us/step - loss: 0.5909 - acc: 0.8720\n",
      "Epoch 12/100\n",
      "500/500 [==============================] - 0s 39us/step - loss: 0.5566 - acc: 0.8680\n",
      "Epoch 13/100\n",
      "500/500 [==============================] - 0s 43us/step - loss: 0.5211 - acc: 0.8860\n",
      "Epoch 14/100\n",
      "500/500 [==============================] - 0s 41us/step - loss: 0.4847 - acc: 0.8940\n",
      "Epoch 15/100\n",
      "500/500 [==============================] - 0s 44us/step - loss: 0.4471 - acc: 0.9000\n",
      "Epoch 16/100\n",
      "500/500 [==============================] - 0s 41us/step - loss: 0.4124 - acc: 0.9000\n",
      "Epoch 17/100\n",
      "500/500 [==============================] - 0s 40us/step - loss: 0.3794 - acc: 0.9080\n",
      "Epoch 18/100\n",
      "500/500 [==============================] - 0s 41us/step - loss: 0.3479 - acc: 0.9120\n",
      "Epoch 19/100\n",
      "500/500 [==============================] - 0s 41us/step - loss: 0.3197 - acc: 0.9260\n",
      "Epoch 20/100\n",
      "500/500 [==============================] - 0s 47us/step - loss: 0.2928 - acc: 0.9340\n",
      "Epoch 21/100\n",
      "500/500 [==============================] - 0s 59us/step - loss: 0.2696 - acc: 0.9360\n",
      "Epoch 22/100\n",
      "500/500 [==============================] - 0s 61us/step - loss: 0.2485 - acc: 0.9440\n",
      "Epoch 23/100\n",
      "500/500 [==============================] - 0s 64us/step - loss: 0.2294 - acc: 0.9780\n",
      "Epoch 24/100\n",
      "500/500 [==============================] - 0s 70us/step - loss: 0.2122 - acc: 0.9900\n",
      "Epoch 25/100\n",
      "500/500 [==============================] - 0s 59us/step - loss: 0.1970 - acc: 0.9940\n",
      "Epoch 26/100\n",
      "500/500 [==============================] - 0s 67us/step - loss: 0.1826 - acc: 0.9940\n",
      "Epoch 27/100\n",
      "500/500 [==============================] - 0s 65us/step - loss: 0.1685 - acc: 0.9960\n",
      "Epoch 28/100\n",
      "500/500 [==============================] - 0s 67us/step - loss: 0.1560 - acc: 0.9960\n",
      "Epoch 29/100\n",
      "500/500 [==============================] - 0s 50us/step - loss: 0.1443 - acc: 0.9960\n",
      "Epoch 30/100\n",
      "500/500 [==============================] - 0s 50us/step - loss: 0.1337 - acc: 0.9960\n",
      "Epoch 31/100\n",
      "500/500 [==============================] - 0s 51us/step - loss: 0.1229 - acc: 0.9960\n",
      "Epoch 32/100\n",
      "500/500 [==============================] - 0s 56us/step - loss: 0.1122 - acc: 0.9960\n",
      "Epoch 33/100\n",
      "500/500 [==============================] - 0s 55us/step - loss: 0.1027 - acc: 0.9980\n",
      "Epoch 34/100\n",
      "500/500 [==============================] - 0s 51us/step - loss: 0.0938 - acc: 0.9980\n",
      "Epoch 35/100\n",
      "500/500 [==============================] - 0s 53us/step - loss: 0.0858 - acc: 0.9980\n",
      "Epoch 36/100\n",
      "500/500 [==============================] - 0s 49us/step - loss: 0.0793 - acc: 0.9980\n",
      "Epoch 37/100\n",
      "500/500 [==============================] - 0s 49us/step - loss: 0.0736 - acc: 0.9980\n",
      "Epoch 38/100\n",
      "500/500 [==============================] - 0s 48us/step - loss: 0.0685 - acc: 0.9980\n",
      "Epoch 39/100\n",
      "500/500 [==============================] - 0s 49us/step - loss: 0.0642 - acc: 0.9980\n",
      "Epoch 40/100\n",
      "500/500 [==============================] - 0s 53us/step - loss: 0.0604 - acc: 0.9980\n",
      "Epoch 41/100\n",
      "500/500 [==============================] - 0s 49us/step - loss: 0.0570 - acc: 0.9980\n",
      "Epoch 42/100\n",
      "500/500 [==============================] - 0s 60us/step - loss: 0.0540 - acc: 0.9980\n",
      "Epoch 43/100\n",
      "500/500 [==============================] - 0s 53us/step - loss: 0.0512 - acc: 0.9980\n",
      "Epoch 44/100\n",
      "500/500 [==============================] - 0s 49us/step - loss: 0.0488 - acc: 0.9980\n",
      "Epoch 45/100\n",
      "500/500 [==============================] - 0s 49us/step - loss: 0.0466 - acc: 0.9980\n",
      "Epoch 46/100\n",
      "500/500 [==============================] - 0s 49us/step - loss: 0.0444 - acc: 0.9980\n",
      "Epoch 47/100\n",
      "500/500 [==============================] - 0s 53us/step - loss: 0.0425 - acc: 1.0000\n",
      "Epoch 48/100\n",
      "500/500 [==============================] - 0s 51us/step - loss: 0.0408 - acc: 1.0000\n",
      "Epoch 49/100\n",
      "500/500 [==============================] - 0s 51us/step - loss: 0.0391 - acc: 1.0000\n",
      "Epoch 50/100\n",
      "500/500 [==============================] - 0s 52us/step - loss: 0.0377 - acc: 0.9980\n",
      "Epoch 51/100\n",
      "500/500 [==============================] - 0s 52us/step - loss: 0.0363 - acc: 0.9980\n",
      "Epoch 52/100\n",
      "500/500 [==============================] - 0s 52us/step - loss: 0.0350 - acc: 1.0000\n",
      "Epoch 53/100\n",
      "500/500 [==============================] - 0s 64us/step - loss: 0.0337 - acc: 1.0000\n",
      "Epoch 54/100\n",
      "500/500 [==============================] - 0s 62us/step - loss: 0.0325 - acc: 1.0000\n",
      "Epoch 55/100\n",
      "500/500 [==============================] - 0s 58us/step - loss: 0.0315 - acc: 1.0000\n",
      "Epoch 56/100\n",
      "500/500 [==============================] - 0s 56us/step - loss: 0.0304 - acc: 1.0000\n",
      "Epoch 57/100\n",
      "500/500 [==============================] - 0s 54us/step - loss: 0.0294 - acc: 1.0000\n",
      "Epoch 58/100\n",
      "500/500 [==============================] - 0s 59us/step - loss: 0.0285 - acc: 1.0000\n",
      "Epoch 59/100\n",
      "500/500 [==============================] - 0s 58us/step - loss: 0.0276 - acc: 1.0000\n",
      "Epoch 60/100\n",
      "500/500 [==============================] - 0s 62us/step - loss: 0.0268 - acc: 1.0000\n",
      "Epoch 61/100\n",
      "500/500 [==============================] - 0s 56us/step - loss: 0.0260 - acc: 1.0000\n",
      "Epoch 62/100\n",
      "500/500 [==============================] - 0s 63us/step - loss: 0.0252 - acc: 1.0000\n",
      "Epoch 63/100\n",
      "500/500 [==============================] - 0s 73us/step - loss: 0.0245 - acc: 1.0000\n",
      "Epoch 64/100\n",
      "500/500 [==============================] - 0s 58us/step - loss: 0.0238 - acc: 1.0000\n",
      "Epoch 65/100\n",
      "500/500 [==============================] - 0s 55us/step - loss: 0.0232 - acc: 1.0000\n",
      "Epoch 66/100\n",
      "500/500 [==============================] - 0s 53us/step - loss: 0.0226 - acc: 1.0000\n",
      "Epoch 67/100\n",
      "500/500 [==============================] - 0s 57us/step - loss: 0.0220 - acc: 1.0000\n",
      "Epoch 68/100\n",
      "500/500 [==============================] - 0s 62us/step - loss: 0.0214 - acc: 1.0000\n",
      "Epoch 69/100\n",
      "500/500 [==============================] - 0s 51us/step - loss: 0.0210 - acc: 1.0000\n",
      "Epoch 70/100\n",
      "500/500 [==============================] - 0s 61us/step - loss: 0.0204 - acc: 1.0000\n",
      "Epoch 71/100\n",
      "500/500 [==============================] - 0s 61us/step - loss: 0.0199 - acc: 1.0000\n",
      "Epoch 72/100\n",
      "500/500 [==============================] - 0s 59us/step - loss: 0.0195 - acc: 1.0000\n",
      "Epoch 73/100\n",
      "500/500 [==============================] - 0s 59us/step - loss: 0.0190 - acc: 1.0000\n",
      "Epoch 74/100\n",
      "500/500 [==============================] - 0s 61us/step - loss: 0.0186 - acc: 1.0000\n",
      "Epoch 75/100\n",
      "500/500 [==============================] - 0s 49us/step - loss: 0.0181 - acc: 1.0000\n",
      "Epoch 76/100\n",
      "500/500 [==============================] - 0s 75us/step - loss: 0.0178 - acc: 1.0000\n",
      "Epoch 77/100\n",
      "500/500 [==============================] - 0s 48us/step - loss: 0.0174 - acc: 1.0000\n",
      "Epoch 78/100\n",
      "500/500 [==============================] - 0s 51us/step - loss: 0.0170 - acc: 1.0000\n",
      "Epoch 79/100\n",
      "500/500 [==============================] - 0s 50us/step - loss: 0.0166 - acc: 1.0000\n",
      "Epoch 80/100\n",
      "500/500 [==============================] - 0s 53us/step - loss: 0.0163 - acc: 1.0000\n",
      "Epoch 81/100\n",
      "500/500 [==============================] - 0s 49us/step - loss: 0.0161 - acc: 1.0000\n",
      "Epoch 82/100\n",
      "500/500 [==============================] - 0s 48us/step - loss: 0.0157 - acc: 1.0000\n",
      "Epoch 83/100\n",
      "500/500 [==============================] - 0s 65us/step - loss: 0.0153 - acc: 1.0000\n",
      "Epoch 84/100\n",
      "500/500 [==============================] - 0s 67us/step - loss: 0.0150 - acc: 1.0000\n",
      "Epoch 85/100\n",
      "500/500 [==============================] - 0s 58us/step - loss: 0.0148 - acc: 1.0000\n",
      "Epoch 86/100\n",
      "500/500 [==============================] - 0s 52us/step - loss: 0.0145 - acc: 1.0000\n",
      "Epoch 87/100\n",
      "500/500 [==============================] - 0s 60us/step - loss: 0.0142 - acc: 1.0000\n",
      "Epoch 88/100\n",
      "500/500 [==============================] - 0s 49us/step - loss: 0.0139 - acc: 1.0000\n",
      "Epoch 89/100\n",
      "500/500 [==============================] - 0s 47us/step - loss: 0.0137 - acc: 1.0000\n",
      "Epoch 90/100\n",
      "500/500 [==============================] - 0s 47us/step - loss: 0.0134 - acc: 1.0000\n",
      "Epoch 91/100\n",
      "500/500 [==============================] - 0s 48us/step - loss: 0.0132 - acc: 1.0000\n",
      "Epoch 92/100\n",
      "500/500 [==============================] - 0s 48us/step - loss: 0.0130 - acc: 1.0000\n",
      "Epoch 93/100\n",
      "500/500 [==============================] - 0s 51us/step - loss: 0.0128 - acc: 1.0000\n",
      "Epoch 94/100\n",
      "500/500 [==============================] - 0s 57us/step - loss: 0.0125 - acc: 1.0000\n",
      "Epoch 95/100\n",
      "500/500 [==============================] - 0s 48us/step - loss: 0.0124 - acc: 1.0000\n",
      "Epoch 96/100\n",
      "500/500 [==============================] - 0s 50us/step - loss: 0.0121 - acc: 1.0000\n",
      "Epoch 97/100\n",
      "500/500 [==============================] - 0s 46us/step - loss: 0.0120 - acc: 1.0000\n",
      "Epoch 98/100\n",
      "500/500 [==============================] - 0s 52us/step - loss: 0.0117 - acc: 1.0000\n",
      "Epoch 99/100\n",
      "500/500 [==============================] - 0s 48us/step - loss: 0.0115 - acc: 1.0000\n",
      "Epoch 100/100\n",
      "500/500 [==============================] - 0s 50us/step - loss: 0.0113 - acc: 1.0000\n"
     ]
    }
   ],
   "source": [
    "h=model.fit(x=X,y=y,verbose=1, batch_size=50, epochs=100, shuffle='true')"
   ]
  },
  {
   "cell_type": "code",
   "execution_count": 43,
   "metadata": {},
   "outputs": [
    {
     "data": {
      "text/plain": [
       "Text(0.5, 1.0, 'accuracy')"
      ]
     },
     "execution_count": 43,
     "metadata": {},
     "output_type": "execute_result"
    },
    {
     "data": {
      "image/png": "[encoded data removed]",
      "text/plain": [
       "<Figure size 432x288 with 1 Axes>"
      ]
     },
     "metadata": {
      "needs_background": "light"
     },
     "output_type": "display_data"
    }
   ],
   "source": [
    "plt.plot(h.history['acc'])\n",
    "plt.xlabel('epoch')\n",
    "plt.legend(['accuracy'])\n",
    "plt.title('accuracy')"
   ]
  },
  {
   "cell_type": "code",
   "execution_count": 44,
   "metadata": {},
   "outputs": [
    {
     "data": {
      "text/plain": [
       "Text(0.5, 1.0, 'loss')"
      ]
     },
     "execution_count": 44,
     "metadata": {},
     "output_type": "execute_result"
    },
    {
     "data": {
      "image/png": "[encoded data removed]",
      "text/plain": [
       "<Figure size 432x288 with 1 Axes>"
      ]
     },
     "metadata": {
      "needs_background": "light"
     },
     "output_type": "display_data"
    }
   ],
   "source": [
    "plt.plot(h.history['loss'])\n",
    "plt.xlabel('epoch')\n",
    "plt.legend(['loss'])\n",
    "plt.title('loss')"
   ]
  },
  {
   "cell_type": "code",
   "execution_count": 48,
   "metadata": {},
   "outputs": [],
   "source": [
    "def plot_descision_boundry(X, y, model):\n",
    "    x_span= np.linspace(min(X[:,0])-.25, max(X[:,0])+.25,50)\n",
    "    y_span=np.linspace(min(X[:,1])-.25,max(X[:,1])+.25,50)\n",
    "    xx,yy=np.meshgrid(x_span,y_span)\n",
    "    xx_,yy_=xx.ravel(),yy.ravel()\n",
    "    grid=np.c_[xx_,yy_]\n",
    "    pred_func=model.predict(grid)\n",
    "    z=pred_func.reshape(xx.shape)\n",
    "    plt.contourf(xx,yy,z)"
   ]
  },
  {
   "cell_type": "code",
   "execution_count": 49,
   "metadata": {},
   "outputs": [
    {
     "data": {
      "text/plain": [
       "<matplotlib.collections.PathCollection at 0x1a1c5ed160>"
      ]
     },
     "execution_count": 49,
     "metadata": {},
     "output_type": "execute_result"
    },
    {
     "data": {
      "image/png": "[encoded data removed]",
      "text/plain": [
       "<Figure size 432x288 with 1 Axes>"
      ]
     },
     "metadata": {
      "needs_background": "light"
     },
     "output_type": "display_data"
    }
   ],
   "source": [
    "plot_descision_boundry(X, y, model)\n",
    "plt.scatter(X[:n_pts, 0], X[:n_pts, 1])\n",
    "plt.scatter(X[n_pts:, 0], X[n_pts:, 1])"
   ]
  },
  {
   "cell_type": "code",
   "execution_count": null,
   "metadata": {},
   "outputs": [],
   "source": []
  }
 ],
 "metadata": {
  "kernelspec": {
   "display_name": "Python 3",
   "language": "python",
   "name": "python3"
  },
  "language_info": {
   "codemirror_mode": {
    "name": "ipython",
    "version": 3
   },
   "file_extension": ".py",
   "mimetype": "text/x-python",
   "name": "python",
   "nbconvert_exporter": "python",
   "pygments_lexer": "ipython3",
   "version": "3.6.8"
  }
 },
 "nbformat": 4,
 "nbformat_minor": 2
}
